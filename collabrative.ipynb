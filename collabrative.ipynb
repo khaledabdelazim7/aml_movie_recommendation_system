{
 "cells": [
  {
   "cell_type": "markdown",
   "id": "aef0b002",
   "metadata": {},
   "source": [
    "### Imports"
   ]
  },
  {
   "cell_type": "code",
   "execution_count": 1,
   "id": "20da4d27",
   "metadata": {},
   "outputs": [],
   "source": [
    "import pandas as pd\n",
    "import numpy as np\n",
    "from scipy.sparse import csr_matrix\n",
    "from sklearn.neighbors import NearestNeighbors\n",
    "from sklearn.decomposition import TruncatedSVD\n",
    "import matplotlib.pyplot as plt\n",
    "import seaborn as sns\n"
   ]
  },
  {
   "cell_type": "markdown",
   "id": "9b19afe2",
   "metadata": {},
   "source": [
    "### Load and Preprocess Data"
   ]
  },
  {
   "cell_type": "code",
   "execution_count": 2,
   "id": "bbdf8e1e",
   "metadata": {},
   "outputs": [],
   "source": [
    "# Load datasets\n",
    "ratings = pd.read_csv(\"ratings.csv\")\n",
    "movies = pd.read_csv(\"movie.csv\")\n",
    "\n",
    "# Merge datasets\n",
    "df = pd.merge(ratings, movies, on=\"movieId\")\n",
    "\n",
    "# Drop unnecessary columns\n",
    "df.drop([\"timestamp\", \"genres\"], axis=1, inplace=True)\n",
    "\n",
    "\n"
   ]
  },
  {
   "cell_type": "markdown",
   "id": "9b44f844",
   "metadata": {},
   "source": [
    "### Create Sparse Matrix for Collaborative Filtering"
   ]
  },
  {
   "cell_type": "code",
   "execution_count": 3,
   "id": "2f50398a",
   "metadata": {},
   "outputs": [],
   "source": [
    "# Create a user-movie sparse matrix directly (userId and movieId must start at 0 for CSR)\n",
    "from scipy.sparse import csr_matrix\n",
    "\n",
    "# Reindex userId and movieId to avoid large sparse dimensions\n",
    "df['user_idx'] = df['userId'].astype(\"category\").cat.codes\n",
    "df['movie_idx'] = df['movieId'].astype(\"category\").cat.codes\n",
    "\n",
    "# Store mapping to recover later\n",
    "user_id_map = dict(enumerate(df['userId'].astype(\"category\").cat.categories))\n",
    "movie_id_map = dict(enumerate(df['movieId'].astype(\"category\").cat.categories))\n",
    "\n",
    "# Create sparse matrix\n",
    "sparse_matrix = csr_matrix((df['rating'], (df['user_idx'], df['movie_idx'])))\n"
   ]
  },
  {
   "cell_type": "code",
   "execution_count": 4,
   "id": "4edae9bc",
   "metadata": {},
   "outputs": [],
   "source": [
    "from sklearn.neighbors import NearestNeighbors\n",
    "\n",
    "# Fit KNN\n",
    "knn = NearestNeighbors(metric='cosine', algorithm='brute', n_neighbors=11, n_jobs=-1)\n",
    "knn.fit(sparse_matrix)\n",
    "\n",
    "# KNN Recommendation Function\n",
    "def recommend_knn(user_id, n_recommendations=10):\n",
    "    if user_id not in df['userId'].values:\n",
    "        return \"User not found.\"\n",
    "\n",
    "    user_idx = df[df['userId'] == user_id]['user_idx'].iloc[0]\n",
    "    distances, indices = knn.kneighbors(sparse_matrix[user_idx], n_neighbors=n_recommendations + 1)\n",
    "    \n",
    "    similar_users = indices.flatten()[1:]\n",
    "    similar_user_ids = [user_id_map[idx] for idx in similar_users]\n",
    "\n",
    "    similar_ratings = df[df['userId'].isin(similar_user_ids)]\n",
    "    top_movies = similar_ratings.groupby('movieId')['rating'].mean().nlargest(n_recommendations).index\n",
    "\n",
    "    return movies[movies['movieId'].isin(top_movies)][['movieId', 'title']]\n"
   ]
  },
  {
   "cell_type": "markdown",
   "id": "da108f2a",
   "metadata": {},
   "source": [
    "### Example for KNN"
   ]
  },
  {
   "cell_type": "code",
   "execution_count": 5,
   "id": "9f366b0c",
   "metadata": {},
   "outputs": [
    {
     "name": "stdout",
     "output_type": "stream",
     "text": [
      "KNN Recommendations for User 19:\n",
      "       movieId                                              title\n",
      "121        123      Chungking Express (Chung Hing sam lam) (1994)\n",
      "5519      5618  Spirited Away (Sen to Chihiro no kamikakushi) ...\n",
      "5591      5690     Grave of the Fireflies (Hotaru no haka) (1988)\n",
      "9304     27368  Asterix & Obelix: Mission Cleopatra (Astérix &...\n",
      "10269    34323                        Devil's Rejects, The (2005)\n",
      "12502    58376                        Zeitgeist: The Movie (2007)\n",
      "13296    65225                         Zeitgeist: Addendum (2008)\n",
      "16667    84273                   Zeitgeist: Moving Forward (2011)\n",
      "17501    88129                                       Drive (2011)\n",
      "20295    99764                   It's Such a Beautiful Day (2012)\n"
     ]
    }
   ],
   "source": [
    "user_id = 19\n",
    "print(f\"KNN Recommendations for User {user_id}:\")\n",
    "print(recommend_knn(user_id))\n"
   ]
  },
  {
   "cell_type": "markdown",
   "id": "dcf45019",
   "metadata": {},
   "source": [
    "### Matrix Factorization using SVD"
   ]
  },
  {
   "cell_type": "code",
   "execution_count": 6,
   "id": "07883ac0",
   "metadata": {},
   "outputs": [],
   "source": [
    "from sklearn.decomposition import TruncatedSVD\n",
    "\n",
    "# Apply Truncated SVD\n",
    "svd = TruncatedSVD(n_components=20, random_state=42)\n",
    "svd_matrix = svd.fit_transform(sparse_matrix)\n",
    "\n",
    "# SVD Recommendation Function\n",
    "def recommend_svd(user_id, n_recommendations=10):\n",
    "    if user_id not in df['userId'].values:\n",
    "        return \"User not found.\"\n",
    "\n",
    "    user_idx = df[df['userId'] == user_id]['user_idx'].iloc[0]\n",
    "    user_vector = svd_matrix[user_idx]\n",
    "\n",
    "    scores = svd_matrix @ user_vector\n",
    "    similar_indices = scores.argsort()[::-1]\n",
    "\n",
    "    # Avoid already rated movies\n",
    "    seen_movies = df[df['user_idx'] == user_idx]['movie_idx'].values\n",
    "    recommended = [idx for idx in similar_indices if idx not in seen_movies][:n_recommendations]\n",
    "\n",
    "    movie_ids = [movie_id_map.get(i) for i in recommended if movie_id_map.get(i) is not None]\n",
    "\n",
    "    return movies[movies['movieId'].isin(movie_ids)][['movieId', 'title']]\n"
   ]
  },
  {
   "cell_type": "markdown",
   "id": "ee902b80",
   "metadata": {},
   "source": [
    "### Example for SVD"
   ]
  },
  {
   "cell_type": "code",
   "execution_count": 7,
   "id": "8742015e",
   "metadata": {},
   "outputs": [
    {
     "name": "stdout",
     "output_type": "stream",
     "text": [
      "\n",
      "SVD Recommendations:\n",
      "       movieId                                              title\n",
      "21446   104091  Devil's Nightmare, The (Plus longue nuit du di...\n",
      "21679   104971  Imaginary Witness: Hollywood and the Holocaust...\n"
     ]
    }
   ],
   "source": [
    "user_id = 19\n",
    "\n",
    "print(\"\\nSVD Recommendations:\")\n",
    "print(recommend_svd(user_id))\n"
   ]
  }
 ],
 "metadata": {
  "kernelspec": {
   "display_name": "Python 3",
   "language": "python",
   "name": "python3"
  },
  "language_info": {
   "codemirror_mode": {
    "name": "ipython",
    "version": 3
   },
   "file_extension": ".py",
   "mimetype": "text/x-python",
   "name": "python",
   "nbconvert_exporter": "python",
   "pygments_lexer": "ipython3",
   "version": "3.11.0"
  }
 },
 "nbformat": 4,
 "nbformat_minor": 5
}
