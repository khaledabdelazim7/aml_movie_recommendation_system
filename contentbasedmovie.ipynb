{
 "cells": [
  {
   "cell_type": "code",
   "execution_count": 1,
   "id": "d4832027",
   "metadata": {},
   "outputs": [
    {
     "name": "stdout",
     "output_type": "stream",
     "text": [
      "   movieId                               title  \\\n",
      "0        1                    Toy Story (1995)   \n",
      "1        2                      Jumanji (1995)   \n",
      "2        3             Grumpier Old Men (1995)   \n",
      "3        4            Waiting to Exhale (1995)   \n",
      "4        5  Father of the Bride Part II (1995)   \n",
      "\n",
      "                                        genres  \n",
      "0  Adventure|Animation|Children|Comedy|Fantasy  \n",
      "1                   Adventure|Children|Fantasy  \n",
      "2                               Comedy|Romance  \n",
      "3                         Comedy|Drama|Romance  \n",
      "4                                       Comedy  \n"
     ]
    }
   ],
   "source": [
    "import pandas as pd\n",
    "df=pd.read_csv(\"movie.csv\")\n",
    "print(df.head())\n"
   ]
  },
  {
   "cell_type": "code",
   "execution_count": 2,
   "id": "aac68302",
   "metadata": {},
   "outputs": [
    {
     "name": "stdout",
     "output_type": "stream",
     "text": [
      "movieId    0\n",
      "title      0\n",
      "genres     0\n",
      "dtype: int64\n"
     ]
    }
   ],
   "source": [
    "# Check for missing values\n",
    "print(df.isnull().sum())\n"
   ]
  },
  {
   "cell_type": "code",
   "execution_count": 3,
   "id": "edcca197",
   "metadata": {},
   "outputs": [],
   "source": [
    "df_cleaned = df.dropna()"
   ]
  },
  {
   "cell_type": "code",
   "execution_count": null,
   "id": "f4c0b72f",
   "metadata": {},
   "outputs": [
    {
     "name": "stdout",
     "output_type": "stream",
     "text": [
      "       (no genres listed)  action  adventure  animation  children    comedy  \\\n",
      "0                     0.0     0.0   0.419151   0.518269  0.505742  0.264175   \n",
      "1                     0.0     0.0   0.515311   0.000000  0.621768  0.000000   \n",
      "2                     0.0     0.0   0.000000   0.000000  0.000000  0.602583   \n",
      "3                     0.0     0.0   0.000000   0.000000  0.000000  0.544541   \n",
      "4                     0.0     0.0   0.000000   0.000000  0.000000  1.000000   \n",
      "...                   ...     ...        ...        ...       ...       ...   \n",
      "27273                 0.0     0.0   0.000000   0.000000  0.000000  1.000000   \n",
      "27274                 0.0     0.0   0.000000   0.000000  0.000000  1.000000   \n",
      "27275                 0.0     0.0   1.000000   0.000000  0.000000  0.000000   \n",
      "27276                 1.0     0.0   0.000000   0.000000  0.000000  0.000000   \n",
      "27277                 0.0     0.0   0.555125   0.000000  0.000000  0.000000   \n",
      "\n",
      "       crime  documentary     drama   fantasy  film-noir    horror  imax  \\\n",
      "0        0.0          0.0  0.000000  0.479736        0.0  0.000000   0.0   \n",
      "1        0.0          0.0  0.000000  0.589796        0.0  0.000000   0.0   \n",
      "2        0.0          0.0  0.000000  0.000000        0.0  0.000000   0.0   \n",
      "3        0.0          0.0  0.428212  0.000000        0.0  0.000000   0.0   \n",
      "4        0.0          0.0  0.000000  0.000000        0.0  0.000000   0.0   \n",
      "...      ...          ...       ...       ...        ...       ...   ...   \n",
      "27273    0.0          0.0  0.000000  0.000000        0.0  0.000000   0.0   \n",
      "27274    0.0          0.0  0.000000  0.000000        0.0  0.000000   0.0   \n",
      "27275    0.0          0.0  0.000000  0.000000        0.0  0.000000   0.0   \n",
      "27276    0.0          0.0  0.000000  0.000000        0.0  0.000000   0.0   \n",
      "27277    0.0          0.0  0.000000  0.635364        0.0  0.536796   0.0   \n",
      "\n",
      "       musical  mystery   romance  sci-fi  thriller  war  western  \n",
      "0          0.0      0.0  0.000000     0.0       0.0  0.0      0.0  \n",
      "1          0.0      0.0  0.000000     0.0       0.0  0.0      0.0  \n",
      "2          0.0      0.0  0.798056     0.0       0.0  0.0      0.0  \n",
      "3          0.0      0.0  0.721186     0.0       0.0  0.0      0.0  \n",
      "4          0.0      0.0  0.000000     0.0       0.0  0.0      0.0  \n",
      "...        ...      ...       ...     ...       ...  ...      ...  \n",
      "27273      0.0      0.0  0.000000     0.0       0.0  0.0      0.0  \n",
      "27274      0.0      0.0  0.000000     0.0       0.0  0.0      0.0  \n",
      "27275      0.0      0.0  0.000000     0.0       0.0  0.0      0.0  \n",
      "27276      0.0      0.0  0.000000     0.0       0.0  0.0      0.0  \n",
      "27277      0.0      0.0  0.000000     0.0       0.0  0.0      0.0  \n",
      "\n",
      "[27278 rows x 20 columns]\n"
     ]
    },
    {
     "name": "stderr",
     "output_type": "stream",
     "text": [
      "e:\\python\\Lib\\site-packages\\sklearn\\feature_extraction\\text.py:517: UserWarning: The parameter 'token_pattern' will not be used since 'tokenizer' is not None'\n",
      "  warnings.warn(\n"
     ]
    }
   ],
   "source": [
    "from sklearn.feature_extraction.text import TfidfVectorizer\n",
    "\n",
    "vectorizer = TfidfVectorizer(tokenizer=lambda x: x.split('|'))\n",
    "\n",
    "tfidf_matrix = vectorizer.fit_transform(df['genres'])\n",
    "\n",
    "tfidf_df = pd.DataFrame(tfidf_matrix.toarray(), columns=vectorizer.get_feature_names_out())\n",
    "\n",
    "print(tfidf_df)"
   ]
  },
  {
   "cell_type": "code",
   "execution_count": 5,
   "id": "152194da",
   "metadata": {},
   "outputs": [],
   "source": [
    "from sklearn.metrics.pairwise import cosine_similarity\n",
    "\n",
    "# Compute pairwise cosine similarity based on TF-IDF features\n",
    "cosine_sim = cosine_similarity(tfidf_matrix, tfidf_matrix)"
   ]
  },
  {
   "cell_type": "code",
   "execution_count": 7,
   "id": "7c6f8db4",
   "metadata": {},
   "outputs": [
    {
     "name": "stdout",
     "output_type": "stream",
     "text": [
      "\n",
      "Top similar films to '19':\n",
      "✅ 18 - Four Rooms (1995)\n",
      "✅ 19 - Ace Ventura: When Nature Calls (1995)\n",
      "✅ 65 - Bio-Dome (1996)\n",
      "✅ 69 - Friday (1995)\n",
      "✅ 88 - Black Sheep (1996)\n"
     ]
    }
   ],
   "source": [
    "def recommend_films(movie_id, df, cosine_sim):\n",
    "    if movie_id not in df['movieId'].values:\n",
    "        print(f\"movie '{movie_id}' not found in the dataset.\")\n",
    "        return\n",
    "\n",
    "    # Get the index of the m\n",
    "    index = df[df['movieId'] == movie_id].index[0]\n",
    "\n",
    "    # Get similarity scores for that film\n",
    "    sim_scores = list(enumerate(cosine_sim[index]))\n",
    "\n",
    "    # Sort the films based on similarity score (excluding self)\n",
    "    sim_scores = sorted(sim_scores, key=lambda x: x[1], reverse=True)\n",
    "\n",
    "    similar_films = [df.iloc[i[0]]['movieId'] for i in sim_scores[1:6]]\n",
    "\n",
    "    print(f\"\\nTop similar films to '{movie_id}':\")\n",
    "    for movie_id in similar_films:\n",
    "        movie_title = df[df['movieId'] == movie_id]['title'].values[0]  \n",
    "        print(f\"✅ {movie_id} - {movie_title}\")\n",
    "\n",
    "\n",
    "recommend_films(19, df_cleaned, cosine_sim)"
   ]
  }
 ],
 "metadata": {
  "kernelspec": {
   "display_name": "Python 3",
   "language": "python",
   "name": "python3"
  },
  "language_info": {
   "codemirror_mode": {
    "name": "ipython",
    "version": 3
   },
   "file_extension": ".py",
   "mimetype": "text/x-python",
   "name": "python",
   "nbconvert_exporter": "python",
   "pygments_lexer": "ipython3",
   "version": "3.11.0"
  }
 },
 "nbformat": 4,
 "nbformat_minor": 5
}
